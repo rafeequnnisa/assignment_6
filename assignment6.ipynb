{
 "cells": [
  {
   "cell_type": "code",
   "execution_count": 1,
   "id": "9aff9df8",
   "metadata": {},
   "outputs": [
    {
     "name": "stdout",
     "output_type": "stream",
     "text": [
      "friend_names is anju\n",
      "friend_names is sahithya\n",
      "friend_names is supriya\n",
      "friend_names is vishnu\n",
      "friend_names is ashi\n",
      "friend_names is ayan\n",
      "friend_names is farha\n",
      "friend_names is pooji\n",
      "friend_names is uma\n",
      "friend_names is vyshnavi\n"
     ]
    }
   ],
   "source": [
    "list=[\"anju\",\"sahithya\",\"supriya\",\"vishnu\",\"ashi\",\"ayan\",\"farha\",\"pooji\",\"uma\",\"vyshnavi\"]\n",
    "for p in list:\n",
    "    print(\"friend_names is\",p)"
   ]
  },
  {
   "cell_type": "code",
   "execution_count": 2,
   "id": "7fd165f0",
   "metadata": {},
   "outputs": [
    {
     "name": "stdout",
     "output_type": "stream",
     "text": [
      "family_members shamshad\n",
      "family_members hannu\n",
      "family_members mobeena\n",
      "family_members noor\n",
      "family_members ashi\n",
      "family_members ayan\n",
      "family_members farha\n",
      "family_members chinnami\n",
      "family_members faiz\n",
      "family_members riyaz\n"
     ]
    }
   ],
   "source": [
    "list=[\"shamshad\",\"hannu\",\"mobeena\",\"noor\",\"ashi\",\"ayan\",\"farha\",\"chinnami\",\"faiz\",\"riyaz\"]\n",
    "for p in list:\n",
    "    print(\"family_members\",p)"
   ]
  },
  {
   "cell_type": "code",
   "execution_count": 6,
   "id": "6f47853b",
   "metadata": {},
   "outputs": [
    {
     "name": "stdout",
     "output_type": "stream",
     "text": [
      "food_names potatofry\n",
      "food_names brinjalcurry\n",
      "food_names tomatofry\n",
      "food_names drumstickcurry\n",
      "food_names ladiesfingure\n",
      "food_names cucumbercurry\n",
      "food_names bitterguardfry\n",
      "food_names redchillipickel\n",
      "food_names cabbagefry\n",
      "food_names rawbananafry\n"
     ]
    }
   ],
   "source": [
    "list=[\"potatofry\",\"brinjalcurry\",\"tomatofry\",\"drumstickcurry\",\"ladiesfingure\",\"cucumbercurry\",\"bitterguardfry\",\"redchillipickel\",\"cabbagefry\",\"rawbananafry\"]\n",
    "for p in list\n",
    "    print(\"food_names\",p)"
   ]
  },
  {
   "cell_type": "code",
   "execution_count": 7,
   "id": "8f80cb86",
   "metadata": {},
   "outputs": [
    {
     "name": "stdout",
     "output_type": "stream",
     "text": [
      "muttonbiryani\n",
      "chickenfry\n",
      "fishcurry\n",
      "prawnscurry\n",
      "chickenbiryani\n",
      "chickencurry\n",
      "muttonfry\n",
      "fishbiryani\n",
      "prawnsbiryani\n",
      "muttoncurry\n"
     ]
    }
   ],
   "source": [
    "tup=(\"muttonbiryani\",\"chickenfry\",\"fishcurry\",\"prawnscurry\",\"chickenbiryani\",\"chickencurry\",\"muttonfry\",\"fishbiryani\",\"prawnsbiryani\",\"muttoncurry\")\n",
    "for food_names in tup:\n",
    "    print(food_names)"
   ]
  },
  {
   "cell_type": "code",
   "execution_count": 9,
   "id": "c472bffe",
   "metadata": {},
   "outputs": [
    {
     "name": "stdout",
     "output_type": "stream",
     "text": [
      "blue\n",
      "white\n",
      "yellow\n",
      "brown\n",
      "skyblue\n",
      "violet\n",
      "green\n",
      "red\n",
      "black\n",
      "pink\n"
     ]
    }
   ],
   "source": [
    "sett={\"pink\",\"green\",\"yellow\",\"black\",\"blue\",\"white\",\"skyblue\",\"red\",\"violet\",\"brown\"}\n",
    "for colour_names in sett:\n",
    "    print(colour_names)"
   ]
  },
  {
   "cell_type": "code",
   "execution_count": 10,
   "id": "51ad5345",
   "metadata": {},
   "outputs": [
    {
     "name": "stdout",
     "output_type": "stream",
     "text": [
      "month_names january\n",
      "month_names february\n",
      "month_names march\n",
      "month_names april\n",
      "month_names may\n",
      "month_names june\n",
      "month_names july\n",
      "month_names august\n",
      "month_names september\n",
      "month_names october\n"
     ]
    }
   ],
   "source": [
    "list=[\"january\",\"february\",\"march\",\"april\",\"may\",\"june\",\"july\",\"august\",\"september\",\"october\"]\n",
    "for p in list:\n",
    "    print(\"month_names\",p)"
   ]
  },
  {
   "cell_type": "code",
   "execution_count": 27,
   "id": "d66f655c",
   "metadata": {},
   "outputs": [
    {
     "name": "stdout",
     "output_type": "stream",
     "text": [
      "9\n",
      "18\n",
      "27\n",
      "36\n",
      "45\n",
      "54\n",
      "63\n",
      "72\n",
      "81\n",
      "90\n"
     ]
    }
   ],
   "source": [
    "for p in range(9,99,9):\n",
    "    print(p)"
   ]
  },
  {
   "cell_type": "code",
   "execution_count": 28,
   "id": "86838bcf",
   "metadata": {},
   "outputs": [
    {
     "name": "stdout",
     "output_type": "stream",
     "text": [
      "12\n",
      "24\n",
      "36\n",
      "48\n",
      "60\n",
      "72\n",
      "84\n",
      "96\n",
      "108\n",
      "120\n"
     ]
    }
   ],
   "source": [
    "for p in range(12,132,12):\n",
    "    print(p)"
   ]
  }
 ],
 "metadata": {
  "kernelspec": {
   "display_name": "Python 3 (ipykernel)",
   "language": "python",
   "name": "python3"
  },
  "language_info": {
   "codemirror_mode": {
    "name": "ipython",
    "version": 3
   },
   "file_extension": ".py",
   "mimetype": "text/x-python",
   "name": "python",
   "nbconvert_exporter": "python",
   "pygments_lexer": "ipython3",
   "version": "3.10.9"
  }
 },
 "nbformat": 4,
 "nbformat_minor": 5
}
